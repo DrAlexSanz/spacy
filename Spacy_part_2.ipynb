{
  "nbformat": 4,
  "nbformat_minor": 0,
  "metadata": {
    "colab": {
      "name": "Spacy part 2",
      "provenance": [],
      "authorship_tag": "ABX9TyMjr0W+241Y+2MB6ouaf2qP",
      "include_colab_link": true
    },
    "kernelspec": {
      "name": "python3",
      "display_name": "Python 3"
    },
    "language_info": {
      "name": "python"
    }
  },
  "cells": [
    {
      "cell_type": "markdown",
      "metadata": {
        "id": "view-in-github",
        "colab_type": "text"
      },
      "source": [
        "<a href=\"https://colab.research.google.com/github/DrAlexSanz/spacy/blob/master/Spacy_part_2.ipynb\" target=\"_parent\"><img src=\"https://colab.research.google.com/assets/colab-badge.svg\" alt=\"Open In Colab\"/></a>"
      ]
    },
    {
      "cell_type": "markdown",
      "source": [
        "# Large-scale data analysis with spaCy\n",
        "\n",
        "https://course.spacy.io/chapter2\n",
        "\n",
        "In this chapter, you'll use your new skills to extract specific information from large volumes of text. You''ll learn how to make the most of spaCy's data structures, and how to effectively combine statistical and rule-based approaches for text analysis."
      ],
      "metadata": {
        "id": "Li-gLW7m5XE3"
      }
    },
    {
      "cell_type": "code",
      "execution_count": 1,
      "metadata": {
        "id": "L1P9CHch5Q5j"
      },
      "outputs": [],
      "source": [
        "#!pip install spacy\n",
        "import spacy"
      ]
    },
    {
      "cell_type": "markdown",
      "source": [
        "# 1. Data Structures (1): Vocab, Lexemes and StringStore\n",
        "\n",
        "Now that you've had some real experience using spaCy's objects, it's time for you to learn more about what's actually going on under spaCy's hood.\n",
        "\n",
        "In this lesson, we'll take a look at the shared vocabulary and how spaCy deals with strings.\n",
        "\n",
        "Shared Vocab and string store\n",
        "SpaCy stores all shared data in a vocabulary, the Vocab.\n",
        "\n",
        "This includes words, but also the labels schemes for tags and entities.\n",
        "\n",
        "To save memory, all strings are encoded to hash IDs. If a word occurs more than once, we don't need to save it every time.\n",
        "\n",
        "Instead, spaCy uses a hash function to generate an ID and stores the string only once in the string store. The string store is available as `nlp.vocab.strings`.\n",
        "\n",
        "It's a lookup table that works in both directions. You can look up a string and get its hash, and look up a hash to get its string value. Internally, spaCy only communicates in hash IDs.\n",
        "\n",
        "Hash IDs can't be reversed, though. If a word in not in the vocabulary, there's no way to get its string. That's why we always need to pass around the shared vocab."
      ],
      "metadata": {
        "id": "4tqXZlZo5jvE"
      }
    },
    {
      "cell_type": "code",
      "source": [
        "nlp = spacy.load(\"en_core_web_sm\")\n",
        "print(len(nlp.vocab.strings))"
      ],
      "metadata": {
        "colab": {
          "base_uri": "https://localhost:8080/"
        },
        "id": "9zlLcGRj5wJW",
        "outputId": "e0f220a1-ac88-43fd-ddcd-e9f805215620"
      },
      "execution_count": 3,
      "outputs": [
        {
          "output_type": "stream",
          "name": "stdout",
          "text": [
            "1139\n"
          ]
        }
      ]
    },
    {
      "cell_type": "code",
      "source": [
        "coffe_hash = nlp.vocab.strings['coffee']\n",
        "print(coffe_hash)"
      ],
      "metadata": {
        "colab": {
          "base_uri": "https://localhost:8080/"
        },
        "id": "GJz797Jk6EDv",
        "outputId": "ec804b71-7621-43b4-f8f3-31a0110c73a1"
      },
      "execution_count": 4,
      "outputs": [
        {
          "output_type": "stream",
          "name": "stdout",
          "text": [
            "3197928453018144401\n"
          ]
        }
      ]
    },
    {
      "cell_type": "code",
      "source": [
        "# This should give an error if I run it\n",
        "#coffee_string = nlp.vocab.strings[coffe_hash]\n",
        "#print(coffee_string)"
      ],
      "metadata": {
        "colab": {
          "base_uri": "https://localhost:8080/",
          "height": 235
        },
        "id": "Aoh50Swm6JX9",
        "outputId": "c6907902-8c40-485b-d30e-697b7c9e884d"
      },
      "execution_count": 5,
      "outputs": [
        {
          "output_type": "error",
          "ename": "KeyError",
          "evalue": "ignored",
          "traceback": [
            "\u001b[0;31m---------------------------------------------------------------------------\u001b[0m",
            "\u001b[0;31mKeyError\u001b[0m                                  Traceback (most recent call last)",
            "\u001b[0;32m<ipython-input-5-6655f89e247c>\u001b[0m in \u001b[0;36m<module>\u001b[0;34m()\u001b[0m\n\u001b[1;32m      1\u001b[0m \u001b[0;31m# This should give an error\u001b[0m\u001b[0;34m\u001b[0m\u001b[0;34m\u001b[0m\u001b[0;34m\u001b[0m\u001b[0m\n\u001b[0;32m----> 2\u001b[0;31m \u001b[0mcoffee_string\u001b[0m \u001b[0;34m=\u001b[0m \u001b[0mnlp\u001b[0m\u001b[0;34m.\u001b[0m\u001b[0mvocab\u001b[0m\u001b[0;34m.\u001b[0m\u001b[0mstrings\u001b[0m\u001b[0;34m[\u001b[0m\u001b[0mcoffe_hash\u001b[0m\u001b[0;34m]\u001b[0m\u001b[0;34m\u001b[0m\u001b[0;34m\u001b[0m\u001b[0m\n\u001b[0m\u001b[1;32m      3\u001b[0m \u001b[0mprint\u001b[0m\u001b[0;34m(\u001b[0m\u001b[0mcoffee_string\u001b[0m\u001b[0;34m)\u001b[0m\u001b[0;34m\u001b[0m\u001b[0;34m\u001b[0m\u001b[0m\n",
            "\u001b[0;32mstrings.pyx\u001b[0m in \u001b[0;36mspacy.strings.StringStore.__getitem__\u001b[0;34m()\u001b[0m\n",
            "\u001b[0;31mKeyError\u001b[0m: \"[E018] Can't retrieve string for hash '3197928453018144401'. This usually refers to an issue with the `Vocab` or `StringStore`.\""
          ]
        }
      ]
    },
    {
      "cell_type": "markdown",
      "source": [
        "To get the hash for a string, we can look it up in nlp dot vocab dot strings.\n",
        "\n",
        "To get the string representation of a hash, we can look up the hash.\n",
        "\n",
        "A Doc object also exposes its vocab and strings."
      ],
      "metadata": {
        "id": "2kXQw8he6jly"
      }
    },
    {
      "cell_type": "code",
      "source": [
        "doc = nlp(\"I love coffee\")\n",
        "print('hash value:', nlp.vocab.strings['coffee'])\n",
        "print('string value:', nlp.vocab.strings[3197928453018144401])"
      ],
      "metadata": {
        "colab": {
          "base_uri": "https://localhost:8080/"
        },
        "id": "BlTGYzeg6RqN",
        "outputId": "7df0824c-009a-47d2-8cd7-bad9f95febca"
      },
      "execution_count": 6,
      "outputs": [
        {
          "output_type": "stream",
          "name": "stdout",
          "text": [
            "hash value: 3197928453018144401\n",
            "string value: coffee\n"
          ]
        }
      ]
    },
    {
      "cell_type": "markdown",
      "source": [
        "## Lexemes: entries in the vocabulary\n",
        "Lexemes are context-independent entries in the vocabulary.\n",
        "\n",
        "You can get a lexeme by looking up a string or a hash ID in the vocab.\n",
        "\n",
        "Lexemes expose attributes, just like tokens.\n",
        "\n",
        "They hold context-independent information about a word, like the text, or whether the the word consists of alphanumeric characters.\n",
        "\n",
        "Lexemes don't have part-of-speech tags, dependencies or entity labels. Those depend on the context."
      ],
      "metadata": {
        "id": "jfLUA8Pm8PV1"
      }
    },
    {
      "cell_type": "code",
      "source": [
        "doc = nlp(\"I love coffee\")\n",
        "\n",
        "for word in doc:\n",
        "  lexeme = nlp.vocab[str(word)]\n",
        "  print(lexeme.text, lexeme.orth, lexeme.is_alpha)"
      ],
      "metadata": {
        "colab": {
          "base_uri": "https://localhost:8080/"
        },
        "id": "0DQ0v3cY8RwM",
        "outputId": "d0f12b84-5aff-4b45-ab23-0d8e4ad6ec4e"
      },
      "execution_count": 10,
      "outputs": [
        {
          "output_type": "stream",
          "name": "stdout",
          "text": [
            "I 4690420944186131903 True\n",
            "love 3702023516439754181 True\n",
            "coffee 3197928453018144401 True\n"
          ]
        }
      ]
    },
    {
      "cell_type": "markdown",
      "source": [
        "# 2. String to hashes\n",
        "## Part 1\n",
        "\n",
        "* Look up the string “cat” in nlp.vocab.strings to get the hash.\n",
        "* Look up the hash to get back the string."
      ],
      "metadata": {
        "id": "UtrIs1io825P"
      }
    },
    {
      "cell_type": "code",
      "source": [
        "doc = nlp(\"I have a cat\")\n",
        "\n",
        "cat_hash = nlp.vocab.strings[\"cat\"]\n",
        "print(cat_hash)\n",
        "\n",
        "cat_string = nlp.vocab.strings[cat_hash] # cat_hash is an int\n",
        "print(cat_string)"
      ],
      "metadata": {
        "colab": {
          "base_uri": "https://localhost:8080/"
        },
        "id": "j3jDlwWj8837",
        "outputId": "c6d371df-4808-4fee-abd2-1755f7871182"
      },
      "execution_count": 11,
      "outputs": [
        {
          "output_type": "stream",
          "name": "stdout",
          "text": [
            "5439657043933447811\n",
            "cat\n"
          ]
        }
      ]
    },
    {
      "cell_type": "markdown",
      "source": [
        "# 3. Data Structures(2)\n",
        "Now that you know all about the vocabulary and string store, we can take a look at the most important data structure: the Doc, and its views Token and Span.\n",
        "\n",
        "## The Doc object\n",
        "The Doc is one of the central data structures in spaCy. It's created automatically when you process a text with the nlp object. But you can also instantiate the class manually.\n",
        "\n",
        "After creating the nlp object, we can import the Doc class from spacy dot tokens.\n",
        "\n",
        "Here we're creating a Doc from three words. The spaces are a list of boolean values indicating whether the word is followed by a space. Every token includes that information – even the last one!\n",
        "\n",
        "The Doc class takes three arguments: the shared vocab, the words and the spaces."
      ],
      "metadata": {
        "id": "AW0c5pLK9mOr"
      }
    },
    {
      "cell_type": "code",
      "source": [
        "# Create an nlp object\n",
        "from spacy.lang.en import English\n",
        "nlp = English()\n",
        "\n",
        "# Import the Doc class\n",
        "from spacy.tokens import Doc\n",
        "\n",
        "# The words and spaces to create the doc from\n",
        "words = ['Hello', 'world', '!']\n",
        "spaces = [True, False, False]\n",
        "\n",
        "# Create a doc manually\n",
        "doc = Doc(nlp.vocab, words=words, spaces=spaces)"
      ],
      "metadata": {
        "id": "E4sac6a39wmf"
      },
      "execution_count": 12,
      "outputs": []
    },
    {
      "cell_type": "markdown",
      "source": [
        "![image.png](data:image/png;base64,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)"
      ],
      "metadata": {
        "id": "1Rh9T_CZ92JB"
      }
    },
    {
      "cell_type": "markdown",
      "source": [
        "A Span is a slice of a Doc consisting of one or more tokens.\n",
        "\n",
        "The Span takes at least three arguments: the doc it refers to, and the start and end index of the span. Remember that the **end index is exclusive!**\n",
        "\n",
        "To create a Span manually, we can also import the class from spacy dot tokens. We can then instantiate it with the doc and the span's start and end index.\n",
        "\n",
        "To add an entity label to the span, we first need to look up the string in the string store. We can then provide it to the span as the label argument.\n",
        "\n",
        "The doc dot ents are writable, so we can add entities manually by overwriting it with a list of spans."
      ],
      "metadata": {
        "id": "JjlXrDou93Nz"
      }
    },
    {
      "cell_type": "code",
      "source": [
        "from spacy.tokens import Doc, Span\n",
        "\n",
        "# The words and spaces to create the doc from\n",
        "words = ['Hello', 'world', '!']\n",
        "spaces = [True, False, False]\n",
        "\n",
        "# Create a doc manually\n",
        "doc = Doc(nlp.vocab, words=words, spaces=spaces)\n",
        "\n",
        "print(doc.ents)\n",
        "\n",
        "# Create a span manually\n",
        "span = Span(doc, 0, 2)\n",
        "\n",
        "# Create a span with a label\n",
        "span_with_label = Span(doc, 0, 2, label=\"GREETING\")\n",
        "\n",
        "# Add span to the doc.ents\n",
        "doc.ents = [span_with_label]\n",
        "print(doc.ents)"
      ],
      "metadata": {
        "colab": {
          "base_uri": "https://localhost:8080/"
        },
        "id": "qL8pIIXl9_u2",
        "outputId": "143ce91c-c4cd-4462-f410-6e0c6806f155"
      },
      "execution_count": 15,
      "outputs": [
        {
          "output_type": "stream",
          "name": "stdout",
          "text": [
            "()\n",
            "(Hello world,)\n"
          ]
        }
      ]
    },
    {
      "cell_type": "markdown",
      "source": [
        "A few tips and tricks before we get started:\n",
        "\n",
        "* The Doc and Span are very powerful and optimized for performance. They give you access to all references and relationships of the words and sentences.\n",
        "\n",
        "* If your application needs to output strings, make sure to convert the doc as late as possible. If you do it too early, you'll lose all relationships between the tokens.\n",
        "\n",
        "* To keep things consistent, try to use built-in token attributes wherever possible. For example, token dot i for the token index.\n",
        "\n",
        "* Also, don't forget to always pass in the shared vocab!"
      ],
      "metadata": {
        "id": "MbJbWAPY-W0l"
      }
    },
    {
      "cell_type": "markdown",
      "source": [
        "# 3. Data structures and best practices\n",
        "The code in this example is trying to analyze a text and collect all proper nouns that are followed by a verb.\n",
        "\n",
        "## Part 1\n",
        "Why is the code bad?"
      ],
      "metadata": {
        "id": "FrxkD_Vq-9fQ"
      }
    },
    {
      "cell_type": "code",
      "source": [
        "nlp = spacy.load(\"en_core_web_sm\")\n",
        "doc = nlp(\"Berlin is a nice city\")\n",
        "\n",
        "# Get all tokens and part-of-speech tags\n",
        "token_texts = [token.text for token in doc]\n",
        "pos_tags = [token.pos_ for token in doc]\n",
        "\n",
        "for index, pos in enumerate(pos_tags):\n",
        "    # Check if the current token is a proper noun\n",
        "    if pos == \"PROPN\":\n",
        "        # Check if the next token is a verb\n",
        "        if pos_tags[index + 1] == \"VERB\":\n",
        "            result = token_texts[index]\n",
        "            print(\"Found proper noun before a verb:\", result)\n",
        "\n"
      ],
      "metadata": {
        "id": "KcKZTzJ5-b0r"
      },
      "execution_count": 21,
      "outputs": []
    },
    {
      "cell_type": "markdown",
      "source": [
        "## Answer:\n",
        "\n",
        "It only uses lists of strings instead of native token attributes. This is often less efficient, and can't express complex relationships.\n",
        "\n",
        "Always convert the results to strings as late as possible, and try to use native token attributes to keep things consistent."
      ],
      "metadata": {
        "id": "4B03lo5_AS1b"
      }
    },
    {
      "cell_type": "markdown",
      "source": [
        "## Part 2\n",
        "* Rewrite the code to use the native token attributes instead of lists of token_texts and pos_tags.\n",
        "* Loop over each token in the doc and check the token.pos_ attribute.\n",
        "* Use `doc[token.i + 1]` to check for the next token and its .pos_ attribute.\n",
        "* If a proper noun before a verb is found, print its token.text."
      ],
      "metadata": {
        "id": "7Ob00GrrAVco"
      }
    },
    {
      "cell_type": "code",
      "source": [
        "nlp = spacy.load(\"en_core_web_sm\")\n",
        "doc = nlp(\"Berlin is a nice city\")\n",
        "\n",
        "# Iterate over the tokens\n",
        "for token in doc:\n",
        "    # Check if the current token is a proper noun\n",
        "    if token.pos_ == \"PROPN\":\n",
        "        # Check if the next token is a verb\n",
        "        if doc[token.i + 1].pos_ == \"VERB\":\n",
        "            print(\"Found proper noun before a verb:\", token.text)"
      ],
      "metadata": {
        "id": "38ifIPJEAfh-"
      },
      "execution_count": 22,
      "outputs": []
    },
    {
      "cell_type": "markdown",
      "source": [
        "# 4. Word vectors and semantic similarities\n",
        "\n",
        "In this lesson, you'll learn how to use spaCy to predict how similar documents, spans or tokens are to each other.\n",
        "\n",
        "You'll also learn about how to use word vectors and how to take advantage of them in your NLP application.\n",
        "\n",
        "spaCy can compare two objects and predict how similar they are – for example, documents, spans or single tokens.\n",
        "\n",
        "For example, the medium or large English model – but not the small one. So if you want to use vectors, always go with a model that ends in \"md\" or \"lg\". You can find more details on this in the models documentation.\n",
        "\n",
        "* spaCy can compare two objects and predict similarity\n",
        "* Doc.similarity(), Span.similarity() and Token.similarity()\n",
        "* Take another object and return a similarity score (0 to 1)\n",
        "**Important: needs a model that has word vectors included, for example:**\n",
        "  \n",
        "  * ✅ en_core_web_md (medium model)\n",
        "  * ✅ en_core_web_lg (large model)\n",
        "  * 🚫 NOT en_core_web_sm (small model)"
      ],
      "metadata": {
        "id": "M78UwYUCA0im"
      }
    },
    {
      "cell_type": "markdown",
      "source": [
        "## Similarity examples\n",
        "Here's an example. Let's say we want to find out whether two documents are similar.\n",
        "\n",
        "First, we load the medium English model, \"en_core_web_md\".\n",
        "\n",
        "We can then create two doc objects and use the first doc's similarity method to compare it to the second.\n",
        "\n",
        "Here, a fairly high similarity score of 0.86 is predicted for \"I like fast food\" and \"I like pizza\".\n",
        "\n",
        "The same works for tokens.\n",
        "\n",
        "According to the word vectors, the tokens \"pizza\" and \"pasta\" are kind of similar, and receive a score of 0.7."
      ],
      "metadata": {
        "id": "zkWgsHSXBZrM"
      }
    },
    {
      "cell_type": "code",
      "source": [
        "!pip install https://github.com/explosion/spacy-models/releases/download/en_core_web_md-3.0.0/en_core_web_md-3.0.0.tar.gz\n",
        "\n",
        "# import en_core_web_md\n",
        "# nlp = en_core_web_md.load()\n",
        "\n",
        "# # Compare two documents\n",
        "# doc1 = nlp(\"I like fast food\")\n",
        "# doc2 = nlp(\"I like pizza\")\n",
        "# print(doc1.similarity(doc2))"
      ],
      "metadata": {
        "colab": {
          "base_uri": "https://localhost:8080/",
          "height": 1000
        },
        "id": "JvXar3OJBWB6",
        "outputId": "3e813a85-00b7-4235-d1ca-e16cc66c141a"
      },
      "execution_count": 27,
      "outputs": [
        {
          "output_type": "stream",
          "name": "stdout",
          "text": [
            "Collecting https://github.com/explosion/spacy-models/releases/download/en_core_web_md-3.0.0/en_core_web_md-3.0.0.tar.gz\n",
            "  Downloading https://github.com/explosion/spacy-models/releases/download/en_core_web_md-3.0.0/en_core_web_md-3.0.0.tar.gz (47.0 MB)\n",
            "\u001b[K     |████████████████████████████████| 47.0 MB 1.2 MB/s \n",
            "\u001b[?25hCollecting spacy<3.1.0,>=3.0.0\n",
            "  Downloading spacy-3.0.7-cp37-cp37m-manylinux_2_17_x86_64.manylinux2014_x86_64.whl (6.3 MB)\n",
            "\u001b[K     |████████████████████████████████| 6.3 MB 7.4 MB/s \n",
            "\u001b[?25hRequirement already satisfied: murmurhash<1.1.0,>=0.28.0 in /usr/local/lib/python3.7/dist-packages (from spacy<3.1.0,>=3.0.0->en-core-web-md==3.0.0) (1.0.6)\n",
            "Collecting srsly<3.0.0,>=2.4.1\n",
            "  Downloading srsly-2.4.2-cp37-cp37m-manylinux_2_17_x86_64.manylinux2014_x86_64.whl (451 kB)\n",
            "\u001b[K     |████████████████████████████████| 451 kB 58.9 MB/s \n",
            "\u001b[?25hRequirement already satisfied: blis<0.8.0,>=0.4.0 in /usr/local/lib/python3.7/dist-packages (from spacy<3.1.0,>=3.0.0->en-core-web-md==3.0.0) (0.4.1)\n",
            "Requirement already satisfied: wasabi<1.1.0,>=0.8.1 in /usr/local/lib/python3.7/dist-packages (from spacy<3.1.0,>=3.0.0->en-core-web-md==3.0.0) (0.8.2)\n",
            "Collecting thinc<8.1.0,>=8.0.3\n",
            "  Downloading thinc-8.0.13-cp37-cp37m-manylinux_2_17_x86_64.manylinux2014_x86_64.whl (628 kB)\n",
            "\u001b[K     |████████████████████████████████| 628 kB 52.0 MB/s \n",
            "\u001b[?25hRequirement already satisfied: numpy>=1.15.0 in /usr/local/lib/python3.7/dist-packages (from spacy<3.1.0,>=3.0.0->en-core-web-md==3.0.0) (1.19.5)\n",
            "Collecting catalogue<2.1.0,>=2.0.4\n",
            "  Downloading catalogue-2.0.6-py3-none-any.whl (17 kB)\n",
            "Collecting typer<0.4.0,>=0.3.0\n",
            "  Downloading typer-0.3.2-py3-none-any.whl (21 kB)\n",
            "Collecting pathy>=0.3.5\n",
            "  Downloading pathy-0.6.1-py3-none-any.whl (42 kB)\n",
            "\u001b[K     |████████████████████████████████| 42 kB 1.4 MB/s \n",
            "\u001b[?25hRequirement already satisfied: jinja2 in /usr/local/lib/python3.7/dist-packages (from spacy<3.1.0,>=3.0.0->en-core-web-md==3.0.0) (2.11.3)\n",
            "Requirement already satisfied: tqdm<5.0.0,>=4.38.0 in /usr/local/lib/python3.7/dist-packages (from spacy<3.1.0,>=3.0.0->en-core-web-md==3.0.0) (4.62.3)\n",
            "Requirement already satisfied: requests<3.0.0,>=2.13.0 in /usr/local/lib/python3.7/dist-packages (from spacy<3.1.0,>=3.0.0->en-core-web-md==3.0.0) (2.23.0)\n",
            "Requirement already satisfied: packaging>=20.0 in /usr/local/lib/python3.7/dist-packages (from spacy<3.1.0,>=3.0.0->en-core-web-md==3.0.0) (21.3)\n",
            "Requirement already satisfied: setuptools in /usr/local/lib/python3.7/dist-packages (from spacy<3.1.0,>=3.0.0->en-core-web-md==3.0.0) (57.4.0)\n",
            "Requirement already satisfied: preshed<3.1.0,>=3.0.2 in /usr/local/lib/python3.7/dist-packages (from spacy<3.1.0,>=3.0.0->en-core-web-md==3.0.0) (3.0.6)\n",
            "Collecting spacy-legacy<3.1.0,>=3.0.5\n",
            "  Downloading spacy_legacy-3.0.8-py2.py3-none-any.whl (14 kB)\n",
            "Collecting pydantic!=1.8,!=1.8.1,<1.9.0,>=1.7.4\n",
            "  Downloading pydantic-1.8.2-cp37-cp37m-manylinux2014_x86_64.whl (10.1 MB)\n",
            "\u001b[K     |████████████████████████████████| 10.1 MB 44.0 MB/s \n",
            "\u001b[?25hRequirement already satisfied: typing-extensions<4.0.0.0,>=3.7.4 in /usr/local/lib/python3.7/dist-packages (from spacy<3.1.0,>=3.0.0->en-core-web-md==3.0.0) (3.10.0.2)\n",
            "Requirement already satisfied: cymem<2.1.0,>=2.0.2 in /usr/local/lib/python3.7/dist-packages (from spacy<3.1.0,>=3.0.0->en-core-web-md==3.0.0) (2.0.6)\n",
            "Requirement already satisfied: zipp>=0.5 in /usr/local/lib/python3.7/dist-packages (from catalogue<2.1.0,>=2.0.4->spacy<3.1.0,>=3.0.0->en-core-web-md==3.0.0) (3.6.0)\n",
            "Requirement already satisfied: pyparsing!=3.0.5,>=2.0.2 in /usr/local/lib/python3.7/dist-packages (from packaging>=20.0->spacy<3.1.0,>=3.0.0->en-core-web-md==3.0.0) (3.0.6)\n",
            "Requirement already satisfied: smart-open<6.0.0,>=5.0.0 in /usr/local/lib/python3.7/dist-packages (from pathy>=0.3.5->spacy<3.1.0,>=3.0.0->en-core-web-md==3.0.0) (5.2.1)\n",
            "Requirement already satisfied: urllib3!=1.25.0,!=1.25.1,<1.26,>=1.21.1 in /usr/local/lib/python3.7/dist-packages (from requests<3.0.0,>=2.13.0->spacy<3.1.0,>=3.0.0->en-core-web-md==3.0.0) (1.24.3)\n",
            "Requirement already satisfied: idna<3,>=2.5 in /usr/local/lib/python3.7/dist-packages (from requests<3.0.0,>=2.13.0->spacy<3.1.0,>=3.0.0->en-core-web-md==3.0.0) (2.10)\n",
            "Requirement already satisfied: chardet<4,>=3.0.2 in /usr/local/lib/python3.7/dist-packages (from requests<3.0.0,>=2.13.0->spacy<3.1.0,>=3.0.0->en-core-web-md==3.0.0) (3.0.4)\n",
            "Requirement already satisfied: certifi>=2017.4.17 in /usr/local/lib/python3.7/dist-packages (from requests<3.0.0,>=2.13.0->spacy<3.1.0,>=3.0.0->en-core-web-md==3.0.0) (2021.10.8)\n",
            "Requirement already satisfied: click<7.2.0,>=7.1.1 in /usr/local/lib/python3.7/dist-packages (from typer<0.4.0,>=0.3.0->spacy<3.1.0,>=3.0.0->en-core-web-md==3.0.0) (7.1.2)\n",
            "Requirement already satisfied: MarkupSafe>=0.23 in /usr/local/lib/python3.7/dist-packages (from jinja2->spacy<3.1.0,>=3.0.0->en-core-web-md==3.0.0) (2.0.1)\n",
            "Building wheels for collected packages: en-core-web-md\n",
            "  Building wheel for en-core-web-md (setup.py) ... \u001b[?25l\u001b[?25hdone\n",
            "  Created wheel for en-core-web-md: filename=en_core_web_md-3.0.0-py3-none-any.whl size=47053325 sha256=a5f791ec83081107dbf3f31ee10fa81db687e3469f9758f64e550e181ed8323b\n",
            "  Stored in directory: /root/.cache/pip/wheels/d6/47/76/f1c52577deef4f358a776bbd944f3e11f1400b37d5ba3b548a\n",
            "Successfully built en-core-web-md\n",
            "Installing collected packages: catalogue, typer, srsly, pydantic, thinc, spacy-legacy, pathy, spacy, en-core-web-md\n",
            "  Attempting uninstall: catalogue\n",
            "    Found existing installation: catalogue 1.0.0\n",
            "    Uninstalling catalogue-1.0.0:\n",
            "      Successfully uninstalled catalogue-1.0.0\n",
            "  Attempting uninstall: srsly\n",
            "    Found existing installation: srsly 1.0.5\n",
            "    Uninstalling srsly-1.0.5:\n",
            "      Successfully uninstalled srsly-1.0.5\n",
            "  Attempting uninstall: thinc\n",
            "    Found existing installation: thinc 7.4.0\n",
            "    Uninstalling thinc-7.4.0:\n",
            "      Successfully uninstalled thinc-7.4.0\n",
            "  Attempting uninstall: spacy\n",
            "    Found existing installation: spacy 2.2.4\n",
            "    Uninstalling spacy-2.2.4:\n",
            "      Successfully uninstalled spacy-2.2.4\n",
            "Successfully installed catalogue-2.0.6 en-core-web-md-3.0.0 pathy-0.6.1 pydantic-1.8.2 spacy-3.0.7 spacy-legacy-3.0.8 srsly-2.4.2 thinc-8.0.13 typer-0.3.2\n"
          ]
        },
        {
          "output_type": "display_data",
          "data": {
            "application/vnd.colab-display-data+json": {
              "pip_warning": {
                "packages": [
                  "catalogue",
                  "spacy",
                  "srsly",
                  "thinc"
                ]
              }
            }
          },
          "metadata": {}
        }
      ]
    },
    {
      "cell_type": "code",
      "source": [
        "import en_core_web_md\n",
        "nlp = en_core_web_md.load()\n",
        "\n",
        "# Compare two documents\n",
        "doc1 = nlp(\"I like fast food\")\n",
        "doc2 = nlp(\"I like pizza\")\n",
        "print(doc1.similarity(doc2))"
      ],
      "metadata": {
        "colab": {
          "base_uri": "https://localhost:8080/"
        },
        "id": "AEw1_B9DDegN",
        "outputId": "33b93818-8ef7-4f0d-ea54-9b507bc529cb"
      },
      "execution_count": 1,
      "outputs": [
        {
          "output_type": "stream",
          "name": "stdout",
          "text": [
            "0.8627204117787385\n"
          ]
        }
      ]
    },
    {
      "cell_type": "code",
      "source": [
        "# Compare two tokens\n",
        "doc = nlp(\"I like pizza and pasta\")\n",
        "token1 = doc[2]\n",
        "token2 = doc[4]\n",
        "print(token1.similarity(token2))"
      ],
      "metadata": {
        "colab": {
          "base_uri": "https://localhost:8080/"
        },
        "id": "0UUJP8BLDwkH",
        "outputId": "0bf6b795-9fd9-47a8-c72f-bfadfb8653e1"
      },
      "execution_count": 5,
      "outputs": [
        {
          "output_type": "stream",
          "name": "stdout",
          "text": [
            "0.7369546\n"
          ]
        }
      ]
    },
    {
      "cell_type": "markdown",
      "source": [
        "You can also use the similarity methods to compare different types of objects.\n",
        "\n",
        "For example, a document and a token.\n",
        "\n",
        "Here, the similarity score is pretty low and the two objects are considered fairly dissimilar.\n",
        "\n",
        "Here's another example comparing a span – \"pizza and pasta\" – to a document about McDonalds.\n",
        "\n",
        "The score returned here is 0.61, so it's determined to be kind of similar."
      ],
      "metadata": {
        "id": "a7nZCNRhD8Tq"
      }
    },
    {
      "cell_type": "code",
      "source": [
        "# Compare a document with a token\n",
        "doc = nlp(\"I like pizza\")\n",
        "token = nlp(\"soap\")[0]\n",
        "\n",
        "print(doc.similarity(token))"
      ],
      "metadata": {
        "colab": {
          "base_uri": "https://localhost:8080/"
        },
        "id": "gsGtftfpD-DM",
        "outputId": "b0fc8aee-4d98-4d4b-b407-05245d17cddb"
      },
      "execution_count": 6,
      "outputs": [
        {
          "output_type": "stream",
          "name": "stdout",
          "text": [
            "0.32531983166759537\n"
          ]
        }
      ]
    },
    {
      "cell_type": "code",
      "source": [
        "# Compare a span with a document\n",
        "span = nlp(\"I like pizza and pasta\")[2:5]\n",
        "doc = nlp(\"McDonalds sells burgers\")\n",
        "\n",
        "print(span.similarity(doc))"
      ],
      "metadata": {
        "colab": {
          "base_uri": "https://localhost:8080/"
        },
        "id": "1k2bHPBmEBDm",
        "outputId": "da06a818-a172-480e-9222-8bbd0eba864f"
      },
      "execution_count": 7,
      "outputs": [
        {
          "output_type": "stream",
          "name": "stdout",
          "text": [
            "0.6199092090831612\n"
          ]
        }
      ]
    },
    {
      "cell_type": "markdown",
      "source": [
        "### How does spaCy predict similarity?\n",
        "\n",
        "* Similarity is determined using word vectors\n",
        "* Multi-dimensional meaning representations of words\n",
        "generated using an algorithm like Word2Vec and lots of text\n",
        "* Can be added to spaCy's statistical models\n",
        "* Default: cosine similarity, but can be adjusted\n",
        "* Doc and Span vectors default to average of token vectors\n",
        "* Short phrases are better than long documents with many irrelevant words\n",
        "\n",
        "Next, we can process a text and look up a token's vector using the dot vector attribute.\n",
        "\n",
        "The result is a 300-dimensional vector of the word \"banana\"."
      ],
      "metadata": {
        "id": "KtLsnI3TERHH"
      }
    },
    {
      "cell_type": "code",
      "source": [
        "doc = nlp(\"I have a banana\")\n",
        "# Access the vector via the token.vector attribute\n",
        "print(doc[3].vector)"
      ],
      "metadata": {
        "colab": {
          "base_uri": "https://localhost:8080/"
        },
        "id": "X92VZ7nWEgeP",
        "outputId": "bafa763c-295a-4f64-aced-8db6aa2d2369"
      },
      "execution_count": 8,
      "outputs": [
        {
          "output_type": "stream",
          "name": "stdout",
          "text": [
            "[ 2.0228e-01 -7.6618e-02  3.7032e-01  3.2845e-02 -4.1957e-01  7.2069e-02\n",
            " -3.7476e-01  5.7460e-02 -1.2401e-02  5.2949e-01 -5.2380e-01 -1.9771e-01\n",
            " -3.4147e-01  5.3317e-01 -2.5331e-02  1.7380e-01  1.6772e-01  8.3984e-01\n",
            "  5.5107e-02  1.0547e-01  3.7872e-01  2.4275e-01  1.4745e-02  5.5951e-01\n",
            "  1.2521e-01 -6.7596e-01  3.5842e-01 -4.0028e-02  9.5949e-02 -5.0690e-01\n",
            " -8.5318e-02  1.7980e-01  3.3867e-01  1.3230e-01  3.1021e-01  2.1878e-01\n",
            "  1.6853e-01  1.9874e-01 -5.7385e-01 -1.0649e-01  2.6669e-01  1.2838e-01\n",
            " -1.2803e-01 -1.3284e-01  1.2657e-01  8.6723e-01  9.6721e-02  4.8306e-01\n",
            "  2.1271e-01 -5.4990e-02 -8.2425e-02  2.2408e-01  2.3975e-01 -6.2260e-02\n",
            "  6.2194e-01 -5.9900e-01  4.3201e-01  2.8143e-01  3.3842e-02 -4.8815e-01\n",
            " -2.1359e-01  2.7401e-01  2.4095e-01  4.5950e-01 -1.8605e-01 -1.0497e+00\n",
            " -9.7305e-02 -1.8908e-01 -7.0929e-01  4.0195e-01 -1.8768e-01  5.1687e-01\n",
            "  1.2520e-01  8.4150e-01  1.2097e-01  8.8239e-02 -2.9196e-02  1.2151e-03\n",
            "  5.6825e-02 -2.7421e-01  2.5564e-01  6.9793e-02 -2.2258e-01 -3.6006e-01\n",
            " -2.2402e-01 -5.3699e-02  1.2022e+00  5.4535e-01 -5.7998e-01  1.0905e-01\n",
            "  4.2167e-01  2.0662e-01  1.2936e-01 -4.1457e-02 -6.6777e-01  4.0467e-01\n",
            " -1.5218e-02 -2.7640e-01 -1.5611e-01 -7.9198e-02  4.0037e-02 -1.2944e-01\n",
            " -2.4090e-04 -2.6785e-01 -3.8115e-01 -9.7245e-01  3.1726e-01 -4.3951e-01\n",
            "  4.1934e-01  1.8353e-01 -1.5260e-01 -1.0808e-01 -1.0358e+00  7.6217e-02\n",
            "  1.6519e-01  2.6526e-04  1.6616e-01 -1.5281e-01  1.8123e-01  7.0274e-01\n",
            "  5.7956e-03  5.1664e-02 -5.9745e-02 -2.7551e-01 -3.9049e-01  6.1132e-02\n",
            "  5.5430e-01 -8.7997e-02 -4.1681e-01  3.2826e-01 -5.2549e-01 -4.4288e-01\n",
            "  8.2183e-03  2.4486e-01 -2.2982e-01 -3.4981e-01  2.6894e-01  3.9166e-01\n",
            " -4.1904e-01  1.6191e-01 -2.6263e+00  6.4134e-01  3.9743e-01 -1.2868e-01\n",
            " -3.1946e-01 -2.5633e-01 -1.2220e-01  3.2275e-01 -7.9933e-02 -1.5348e-01\n",
            "  3.1505e-01  3.0591e-01  2.6012e-01  1.8553e-01 -2.4043e-01  4.2886e-02\n",
            "  4.0622e-01 -2.4256e-01  6.3870e-01  6.9983e-01 -1.4043e-01  2.5209e-01\n",
            "  4.8984e-01 -6.1067e-02 -3.6766e-01 -5.5089e-01 -3.8265e-01 -2.0843e-01\n",
            "  2.2832e-01  5.1218e-01  2.7868e-01  4.7652e-01  4.7951e-02 -3.4008e-01\n",
            " -3.2873e-01 -4.1967e-01 -7.5499e-02 -3.8954e-01 -2.9622e-02 -3.4070e-01\n",
            "  2.2170e-01 -6.2856e-02 -5.1903e-01 -3.7774e-01 -4.3477e-03 -5.8301e-01\n",
            " -8.7546e-02 -2.3929e-01 -2.4711e-01 -2.5887e-01 -2.9894e-01  1.3715e-01\n",
            "  2.9892e-02  3.6544e-02 -4.9665e-01 -1.8160e-01  5.2939e-01  2.1992e-01\n",
            " -4.4514e-01  3.7798e-01 -5.7062e-01 -4.6946e-02  8.1806e-02  1.9279e-02\n",
            "  3.3246e-01 -1.4620e-01  1.7156e-01  3.9981e-01  3.6217e-01  1.2816e-01\n",
            "  3.1644e-01  3.7569e-01 -7.4690e-02 -4.8480e-02 -3.1401e-01 -1.9286e-01\n",
            " -3.1294e-01 -1.7553e-02 -1.7514e-01 -2.7587e-02 -1.0000e+00  1.8387e-01\n",
            "  8.1434e-01 -1.8913e-01  5.0999e-01 -9.1960e-03 -1.9295e-03  2.8189e-01\n",
            "  2.7247e-02  4.3409e-01 -5.4967e-01 -9.7426e-02 -2.4540e-01 -1.7203e-01\n",
            " -8.8650e-02 -3.0298e-01 -1.3591e-01 -2.7765e-01  3.1286e-03  2.0556e-01\n",
            " -1.5772e-01 -5.2308e-01 -6.4701e-01 -3.7014e-01  6.9393e-02  1.1401e-01\n",
            "  2.7594e-01 -1.3875e-01 -2.7268e-01  6.6891e-01 -5.6454e-02  2.4017e-01\n",
            " -2.6730e-01  2.9860e-01  1.0083e-01  5.5592e-01  3.2849e-01  7.6858e-02\n",
            "  1.5528e-01  2.5636e-01 -1.0772e-01 -1.2359e-01  1.1827e-01 -9.9029e-02\n",
            " -3.4328e-01  1.1502e-01 -3.7808e-01 -3.9012e-02 -3.4593e-01 -1.9404e-01\n",
            " -3.3580e-01 -6.2334e-02  2.8919e-01  2.8032e-01 -5.3741e-01  6.2794e-01\n",
            "  5.6955e-02  6.2147e-01 -2.5282e-01  4.1670e-01 -1.0108e-02 -2.5434e-01\n",
            "  4.0003e-01  4.2432e-01  2.2672e-01  1.7553e-01  2.3049e-01  2.8323e-01\n",
            "  1.3882e-01  3.1218e-03  1.7057e-01  3.6685e-01  2.5247e-03 -6.4009e-01\n",
            " -2.9765e-01  7.8943e-01  3.3168e-01 -1.1966e+00 -4.7156e-02  5.3175e-01]\n"
          ]
        }
      ]
    },
    {
      "cell_type": "markdown",
      "source": [
        "Predicting similarity can be useful for many types of applications. For example, to recommend a user similar texts based on the ones they have read. It can also be helpful to flag duplicate content, like posts on an online platform.\n",
        "\n",
        "However, it's important to keep in mind that there's no objective definition of what's similar and what isn't. It always depends on the context and what your application needs to do.\n",
        "\n",
        "Here's an example: spaCy's default word vectors assign a very high similarity score to \"I like cats\" and \"I hate cats\". This makes sense, because both texts express sentiment about cats. But in a different application context, you might want to consider the phrases as very dissimilar, because they talk about opposite sentiments."
      ],
      "metadata": {
        "id": "ETrI4l8WEpuo"
      }
    },
    {
      "cell_type": "code",
      "source": [
        "doc1 = nlp(\"I like cats\")\n",
        "doc2 = nlp(\"I hate cats\")\n",
        "\n",
        "print(doc1.similarity(doc2))"
      ],
      "metadata": {
        "colab": {
          "base_uri": "https://localhost:8080/"
        },
        "id": "mtZtESDsEqmM",
        "outputId": "ef35217e-0820-424a-8285-b24849b62383"
      },
      "execution_count": 9,
      "outputs": [
        {
          "output_type": "stream",
          "name": "stdout",
          "text": [
            "0.9501447503553421\n"
          ]
        }
      ]
    }
  ]
}